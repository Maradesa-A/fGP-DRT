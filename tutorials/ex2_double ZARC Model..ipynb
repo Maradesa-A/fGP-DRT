{
 "cells": [
  {
   "cell_type": "markdown",
   "metadata": {},
   "source": [
    "# The finite Gaussian Process Distribution of Relaxation Times (fGP-DRT)"
   ]
  },
  {
   "cell_type": "code",
   "execution_count": 78,
   "metadata": {},
   "outputs": [],
   "source": [
    "import numpy as np\n",
    "import matplotlib.pyplot as plt\n",
    "from math import sin, cos, pi\n",
    "import finite_GP_DRT\n",
    "from scipy.optimize import minimize\n",
    "import importlib\n",
    "importlib.reload(finite_GP_DRT)\n",
    "%matplotlib inline"
   ]
  },
  {
   "cell_type": "markdown",
   "metadata": {},
   "source": [
    "## 1) The 2 $\\times$ ZARC model\n",
    "\n",
    "The impedance and corresponding DRT of a double ZARC are given by\n",
    "$$\n",
    "Z_{\\rm exact}(f) = R_\\infty + \\displaystyle \\frac{R_{\\rm ct, 1}}{\\displaystyle 1+ \\left(i 2\\pi f \\tau_1\\right)^{\\phi_1}} + \\displaystyle \\frac{R_{\\rm ct, 2}}{\\displaystyle 1+ \\left(i 2\\pi f \\tau_2\\right)^{\\phi_2}}\n",
    "$$\n",
    "\n",
    "$$\n",
    "\\gamma(\\log \\tau) =  \\displaystyle \\frac{\\displaystyle R_{\\rm ct,1}}{\\displaystyle 2\\pi} \\displaystyle \\frac{\\displaystyle \\sin\\left((1-\\phi_1)\\pi\\right)}{\\displaystyle \\cosh(\\phi_1 \\log(\\tau/\\tau_1))-\\cos(\\pi(1-\\phi_1))} +\\displaystyle \\frac{\\displaystyle R_{\\rm ct,2}}{\\displaystyle 2\\pi} \\displaystyle \\frac{\\displaystyle \\sin\\left((1-\\phi_2)\\pi\\right)}{\\displaystyle \\cosh(\\phi_2 \\log(\\tau/\\tau_2))-\\cos(\\pi(1-\\phi_2))}\n",
    "$$"
   ]
  },
  {
   "cell_type": "markdown",
   "metadata": {},
   "source": [
    "### 1.1) Ranges of log frequencies and log timescales"
   ]
  },
  {
   "cell_type": "code",
   "execution_count": 79,
   "metadata": {},
   "outputs": [],
   "source": [
    "# define the range of log frequencies\n",
    "log_freq_min = -4.\n",
    "log_freq_max = 4.\n",
    "\n",
    "# define the range of log timescales \n",
    "log_tau_min = -4 \n",
    "log_tau_max = 4  \n",
    "\n",
    "# number of collocation points in log(freq) and log(tau)\n",
    "N_freqs = 10*int(log_freq_max-log_freq_min)+1\n",
    "N_taus = 10*int(log_tau_max-log_tau_min)+1\n",
    "\n",
    "# freq and tau vectors\n",
    "freq_vec = np.logspace(log_freq_min, log_freq_max, num = N_freqs, endpoint=True)\n",
    "tau_vec = np.logspace(log_tau_min, log_tau_max, num = N_taus, endpoint=True)\n",
    "log_tau_vec = np.log(tau_vec)"
   ]
  },
  {
   "cell_type": "markdown",
   "metadata": {},
   "source": [
    "### 1.2) Exact ZARC model"
   ]
  },
  {
   "cell_type": "code",
   "execution_count": 80,
   "metadata": {},
   "outputs": [],
   "source": [
    "R_inf = 10\n",
    "\n",
    "# define variables for exact\n",
    "R_ct_1 = 50\n",
    "phi_1 = 0.8\n",
    "tau_1 = 0.1\n",
    "\n",
    "# define variables for exact\n",
    "R_ct_2 = 50\n",
    "phi_2 = 0.8\n",
    "tau_2 = 1E1\n",
    "\n",
    "# Z\n",
    "Z_exact_1 = R_ct_1/(1.+(1j*2.*pi*freq_vec*tau_1)**phi_1)\n",
    "Z_exact_2 = R_ct_2/(1.+(1j*2.*pi*freq_vec*tau_2)**phi_2)\n",
    "Z_exact = R_inf + Z_exact_1 + Z_exact_2\n",
    "\n",
    "# gamma\n",
    "gamma_fct_1 = (R_ct_1)/(2.*pi)*sin((1.-phi_1)*pi)/(np.cosh(phi_1*np.log(tau_vec/tau_1))-cos((1.-phi_1)*pi))\n",
    "gamma_fct_2 = (R_ct_2)/(2.*pi)*sin((1.-phi_2)*pi)/(np.cosh(phi_2*np.log(tau_vec/tau_2))-cos((1.-phi_2)*pi))\n",
    "gamma_fct = gamma_fct_1 + gamma_fct_2\n"
   ]
  },
  {
   "cell_type": "markdown",
   "metadata": {},
   "source": [
    "### 1.3) Artificial experiments\n",
    "$Z = Ax + \\varepsilon$      where     $\\boldsymbol{\\varepsilon} \\sim \\mathcal{N}(\\mathbf{0},\\sigma_{n}^{2} \\mathbf{I})$  "
   ]
  },
  {
   "cell_type": "code",
   "execution_count": 81,
   "metadata": {},
   "outputs": [],
   "source": [
    "# we will add white noise to the impedance computed analytically\n",
    "rng = np.random.seed(12129)\n",
    "sigma_n_exp = 0.5\n",
    "Z_exp = Z_exact + sigma_n_exp*(np.random.normal(0, 1, N_freqs)+1j*np.random.normal(0, 1, N_freqs))"
   ]
  },
  {
   "cell_type": "markdown",
   "metadata": {},
   "source": [
    "We define $\\mathbf Z_{\\rm re-im} = \\begin{pmatrix}\n",
    " \\mathbf{Z}_{\\rm re} \\\\\n",
    " \\mathbf{Z}_{\\rm im} \n",
    "\\end{pmatrix}$"
   ]
  },
  {
   "cell_type": "code",
   "execution_count": 82,
   "metadata": {},
   "outputs": [],
   "source": [
    "Z_exp_re_im = np.zeros(2*N_freqs)\n",
    "Z_exp_re_im[:N_freqs] = Z_exp.real\n",
    "Z_exp_re_im[N_freqs:] = Z_exp.imag"
   ]
  },
  {
   "cell_type": "markdown",
   "metadata": {},
   "source": [
    "## 2) Nyquist plot of the artificial impedance"
   ]
  },
  {
   "cell_type": "markdown",
   "metadata": {},
   "source": [
    "### Figure 8(a) in fG-DRT paper"
   ]
  },
  {
   "cell_type": "code",
   "execution_count": 83,
   "metadata": {},
   "outputs": [
    {
     "data": {
      "image/png": "[encoded data removed]",
      "text/plain": [
       "<Figure size 465.984x288 with 1 Axes>"
      ]
     },
     "metadata": {
      "needs_background": "light"
     },
     "output_type": "display_data"
    }
   ],
   "source": [
    "plt.rc('text', usetex=True)\n",
    "plt.rc('font', family='serif', size=15)\n",
    "plt.rc('xtick', labelsize=15)\n",
    "plt.rc('ytick', labelsize=15)\n",
    "\n",
    "# Nyquist plot of the impedance\n",
    "plt.plot(np.real(Z_exact), -np.imag(Z_exact), '--', linewidth=2, color='blue')\n",
    "plt.plot(np.real(Z_exp), -np.imag(Z_exp), 'o', markersize=7, color='red', label='synth exp')\n",
    "plt.plot(np.real(Z_exp[10:70:10]), -np.imag(Z_exp[10:70:10]), 's', markersize=10, color=\"black\")\n",
    "plt.plot(np.real(Z_exact), -np.imag(Z_exact), '--', linewidth=2, color='blue', label='exact')\n",
    "\n",
    "plt.legend(frameon=False, fontsize = 15)\n",
    "plt.axis('scaled')\n",
    "\n",
    "plt.xticks(range(10, 140, 10))\n",
    "plt.yticks(range(0, 70, 10))\n",
    "plt.gca().set_aspect('equal', adjustable='box')\n",
    "plt.xlabel(r'$Z_{\\rm re}/\\Omega$', fontsize = 20)\n",
    "plt.ylabel(r'$-Z_{\\rm im}/\\Omega$', fontsize = 20)\n",
    "\n",
    "plt.annotate(r'$10^{-3}$', xy=(np.real(Z_exp[10]), -np.imag(Z_exp[10])), \n",
    "             xytext=(np.real(Z_exp[10])+10, 5-np.imag(Z_exp[10])), \n",
    "             arrowprops=dict(arrowstyle=\"-\", connectionstyle=\"arc\"))\n",
    "plt.annotate(r'$10^{-2}$', xy=(np.real(Z_exp[20]), -np.imag(Z_exp[20])), \n",
    "             xytext=(np.real(Z_exp[20])+10, 5-np.imag(Z_exp[20])), \n",
    "             arrowprops=dict(arrowstyle=\"-\", connectionstyle=\"arc\"))\n",
    "plt.annotate(r'$10^{-1}$', xy=(np.real(Z_exp[30]), -np.imag(Z_exp[30])), \n",
    "             xytext=(np.real(Z_exp[30])-5, 10-np.imag(Z_exp[30])), \n",
    "             arrowprops=dict(arrowstyle=\"-\", connectionstyle=\"arc\"))\n",
    "plt.annotate(r'$1$', xy=(np.real(Z_exp[40]), -np.imag(Z_exp[40])), \n",
    "             xytext=(np.real(Z_exp[40])-5, 10-np.imag(Z_exp[40])), \n",
    "             arrowprops=dict(arrowstyle=\"-\", connectionstyle=\"arc\"))\n",
    "plt.annotate(r'$10$', xy=(np.real(Z_exp[50]), -np.imag(Z_exp[50])), \n",
    "             xytext=(np.real(Z_exp[50])-5, 10-np.imag(Z_exp[50])), \n",
    "             arrowprops=dict(arrowstyle=\"-\", connectionstyle=\"arc\"))\n",
    "plt.annotate(r'$10^2$', xy=(np.real(Z_exp[60]), -np.imag(Z_exp[60])), \n",
    "             xytext=(np.real(Z_exp[60])+10, 2-np.imag(Z_exp[60])), \n",
    "             arrowprops=dict(arrowstyle=\"-\", connectionstyle=\"arc\"))\n",
    "\n",
    "fig = plt.gcf()\n",
    "\n",
    "fig.set_size_inches(6.472, 4)##\n",
    "\n",
    "plt.show()"
   ]
  },
  {
   "cell_type": "markdown",
   "metadata": {},
   "source": [
    "### The matrices $\\mathbf{A}_{\\rm re}$, $\\mathbf{A}_{\\rm im}$ and $A$"
   ]
  },
  {
   "cell_type": "code",
   "execution_count": 84,
   "metadata": {},
   "outputs": [],
   "source": [
    "# compute A_re and A_im\n",
    "A_re = finite_GP_DRT.compute_A_re(freq_vec, tau_vec)\n",
    "A_im = finite_GP_DRT.compute_A_im(freq_vec, tau_vec)\n",
    "\n",
    "# matrix A\n",
    "A = np.zeros((2*N_freqs, N_taus+1))\n",
    "# real part\n",
    "A[:N_freqs, 0] = 1.0 \n",
    "A[:N_freqs, 1:] = A_re\n",
    "# imaginary part\n",
    "A[N_freqs:, 1:] = A_im"
   ]
  },
  {
   "cell_type": "markdown",
   "metadata": {},
   "source": [
    "### 2.2) Selection of the optimal hyperparameters of the unconstrained GP-DRT model by minimizing the negative marginal log-likelihood (NMLL)"
   ]
  },
  {
   "cell_type": "markdown",
   "metadata": {},
   "source": [
    "The values of the hyperparameter vector $\\boldsymbol{\\theta}$ were obtained by maximizing the experimental evidence, i.e., by maximizing the probability $p(\\mathbf{Z} = \\mathbf{Z}_{\\rm exp}|\\mathbf{x}, \\boldsymbol \\theta)$   of the experiment under no constraint on $\\mathbf{x}$.\n",
    "\n",
    "$$\n",
    "\\log\\left(\\mathbf{Z} = \\mathbf{Z}_{\\rm exp}|\\mathbf x, \\boldsymbol\\theta\\right) = - \\frac{1}{2} \\mathbf{Z}_{\\rm exp}^\\top \\mathbf (A\\boldsymbol{\\Gamma}A^{\\top} + \\sigma_{n}^{2}\\mathbf{I})^{-1}\\mathbf{Z}_{\\rm exp} -\\frac{1}{2} \\log(|A\\boldsymbol{\\Gamma}A^{\\top} + \\sigma_{n}^{2}\\mathbf{I}|) - \\frac{N+1}{2} \\log \\left( 2\\pi\\right)\n",
    "$$\n",
    "In the actual implementation\n",
    "$$\n",
    "L(\\boldsymbol{\\theta}) = -\\log\\left(\\mathbf{Z} = \\mathbf{Z}_{\\rm exp}|\\mathbf x, \\boldsymbol\\theta\\right)-\\frac{N+1}{2} \\log \\left( 2\\pi\\right)\n",
    "$$\n",
    "\n",
    "The above minimization problem is solved using the `optimize` function from `scipy`."
   ]
  },
  {
   "cell_type": "markdown",
   "metadata": {},
   "source": [
    "#### 2.2.1) Initialization of the parameters for the NMLL minimization"
   ]
  },
  {
   "cell_type": "code",
   "execution_count": 85,
   "metadata": {},
   "outputs": [],
   "source": [
    "sigma_n = sigma_n_exp\n",
    "sigma_R = 11.0      \n",
    "sigma_f = 9.0     \n",
    "ell = 1.1           \n",
    "\n",
    "theta_0 = np.array([sigma_n, sigma_R, sigma_f, ell])"
   ]
  },
  {
   "cell_type": "markdown",
   "metadata": {},
   "source": [
    "#### 2.2.2) NMLL optimization"
   ]
  },
  {
   "cell_type": "code",
   "execution_count": 86,
   "metadata": {},
   "outputs": [
    {
     "name": "stdout",
     "output_type": "stream",
     "text": [
      "sigma_n,   sigma_R,   sigma_f,   ell\n",
      "0.5343575  10.1830866  8.3062816  1.2263955\n",
      "0.5341541  10.1831820  8.7948462  1.2566910\n",
      "0.5341184  10.1832943  9.0455247  1.2717657\n",
      "Optimization terminated successfully.\n",
      "         Current function value: 26.648745\n",
      "         Iterations: 3\n",
      "         Function evaluations: 172\n"
     ]
    }
   ],
   "source": [
    "seq_theta = np.copy(theta_0)\n",
    "def print_results(theta):\n",
    "    global seq_theta\n",
    "    seq_theta = np.vstack((seq_theta, theta))\n",
    "    print('{0:.7f}  {1:.7f}  {2:.7f}  {3:.7f}'.format(theta[0], theta[1], theta[2], theta[3]))\n",
    "\n",
    "print('sigma_n,   sigma_R,   sigma_f,   ell')\n",
    "\n",
    "# minimize the NMLL L(\\theta) w.r.t sigma_n, sigma_R, sigma_f, and ell\n",
    "res = minimize(finite_GP_DRT.NMLL_fct, theta_0, args=(A, Z_exp_re_im, N_freqs, log_tau_vec), method='Powell', \\\n",
    "                callback=print_results, options={'disp': True})\n",
    "\n",
    "# collect the optimized parameters\n",
    "sigma_n, sigma_R, sigma_f, ell = res.x"
   ]
  },
  {
   "cell_type": "markdown",
   "metadata": {},
   "source": [
    "### 2.3) Definition of the covariance matrix $\\mathbf K$ with the optimized $\\boldsymbol \\theta$"
   ]
  },
  {
   "cell_type": "code",
   "execution_count": 87,
   "metadata": {},
   "outputs": [],
   "source": [
    "# compute the matrix K\n",
    "K = finite_GP_DRT.compute_K(log_tau_vec, sigma_f, ell)"
   ]
  },
  {
   "cell_type": "markdown",
   "metadata": {},
   "source": [
    "### 2.4) Building the augmented covariance matrix $\\boldsymbol{\\Gamma}$\n",
    "\n",
    "$$\\mathbf \\Gamma := \\begin{pmatrix}\n",
    "\\mathbf \\sigma_R^2 & 0 \\\\\n",
    "0 & \\mathbf K\n",
    "\\end{pmatrix}$$"
   ]
  },
  {
   "cell_type": "code",
   "execution_count": 88,
   "metadata": {},
   "outputs": [],
   "source": [
    "# compute the matrix Gamma\n",
    "Gamma = np.zeros((N_taus+1, N_taus+1))\n",
    "Gamma[0,0] = sigma_R**2\n",
    "Gamma[1:, 1:] = K"
   ]
  },
  {
   "cell_type": "markdown",
   "metadata": {},
   "source": [
    "### 2.5) Definition of $\\mathbf \\Psi$ and $\\mathbf \\Xi$\n",
    "\n",
    "$$\\mathbf \\Psi = \\mathbf A \\mathbf \\Gamma \\mathbf A^\\top + \\sigma_n^2 \\mathbf I$$ \n",
    "and \n",
    "\n",
    "$$\\mathbf \\Xi = \\mathbf \\Gamma \\mathbf A^\\top$$"
   ]
  },
  {
   "cell_type": "code",
   "execution_count": 89,
   "metadata": {},
   "outputs": [],
   "source": [
    "# put together the matrix Gamma\n",
    "Psi = A@(Gamma@A.T)+(sigma_n**2)*np.eye(2*N_freqs)\n",
    "Psi = 0.5*(Psi + Psi.T) # symmetrize\n",
    "Xi = Gamma@A.T"
   ]
  },
  {
   "cell_type": "markdown",
   "metadata": {},
   "source": [
    "### 2.6) Factorization of the matrices and solving of the unconstrained problem\n",
    "We are computing\n",
    "$$\n",
    "\\mathbf x|\\mathbf Z=Z_{\\rm exp}\\sim \\mathcal N\\left( \\boldsymbol \\mu_{x|Z}, \\boldsymbol \\Sigma_{x|Z} \\right)\n",
    "$$\n",
    "\n",
    "using \n",
    "$$\n",
    "\\begin{align}\n",
    "\\boldsymbol \\mu_{x|Z} &= \\mathbf \\Xi \\mathbf \\Psi^{-1}\\mathbf Z_{\\rm exp} \\\\\n",
    "\\boldsymbol \\Sigma_{x|Z} &= \\mathbf \\Gamma - \\mathbf \\Xi \\mathbf \\Psi^{-1} \\mathbf \\Xi^\\top\n",
    "\\end{align}\n",
    "$$\n",
    "\n",
    "The key step is to do Cholesky factorization of $\\mathbf \\Psi$"
   ]
  },
  {
   "cell_type": "code",
   "execution_count": 90,
   "metadata": {},
   "outputs": [],
   "source": [
    "# Cholesky factorization L of Psi -L is a lower-triangular matrix-\n",
    "L = np.linalg.cholesky(Psi)\n",
    "\n",
    "# solve for alpha\n",
    "alpha = np.linalg.solve(L, Z_exp_re_im)\n",
    "alpha = np.linalg.solve(L.T, alpha)\n",
    "\n",
    "# obtain mu_x\n",
    "mu_x_given_Z = np.dot(Xi, alpha)\n",
    "\n",
    "# covariance matrix\n",
    "inv_L = np.linalg.inv(L)\n",
    "inv_Psi = np.dot(inv_L.T, inv_L)\n",
    "\n",
    "# estimate the covariance matrix of gamma for eq (21b)\n",
    "Sigma_x_given_Z = Gamma - Xi@(inv_Psi@Xi.T)\n",
    "\n",
    "# useful definition for plots\n",
    "R_inf_unc = mu_x_given_Z[0]\n",
    "cov_R_inf_unc = Sigma_x_given_Z[0, 0]\n",
    "\n",
    "gamma_GP_unc = mu_x_given_Z[1:]\n",
    "Sigma_GP_unc = Sigma_x_given_Z[1:, 1:]"
   ]
  },
  {
   "cell_type": "markdown",
   "metadata": {},
   "source": [
    "### 2.7)  Sample DRT under positivity constraint\n",
    "\n",
    "We now sample\n",
    "$$\n",
    "\\mathbf x|\\mathbf Z=Z_{\\rm exp}\\sim {\\mathcal TN}\\left( \\boldsymbol \\mu_{x|Z}, \\boldsymbol \\Sigma_{x|Z}, \\mathbf 0, \\infty \\right)\n",
    "$$"
   ]
  },
  {
   "cell_type": "code",
   "execution_count": 91,
   "metadata": {},
   "outputs": [
    {
     "name": "stdout",
     "output_type": "stream",
     "text": [
      "Current sample number 1000 / 10000\n",
      "Current sample number 2000 / 10000\n",
      "Current sample number 3000 / 10000\n",
      "Current sample number 4000 / 10000\n",
      "Current sample number 5000 / 10000\n",
      "Current sample number 6000 / 10000\n",
      "Current sample number 7000 / 10000\n",
      "Current sample number 8000 / 10000\n",
      "Current sample number 9000 / 10000\n",
      "Current sample number 10000 / 10000\n"
     ]
    }
   ],
   "source": [
    "# inputs to the Hamilton Monte-Carlo sampler\n",
    "# F*X+g >0\n",
    "F = np.eye(N_taus+1) \n",
    "g = np.zeros(N_taus+1) \n",
    "# covariance & mean\n",
    "M = Sigma_x_given_Z + 1E-8*np.eye(N_taus+1)\n",
    "mu_r = mu_x_given_Z\n",
    "# initial val\n",
    "initial_x_given_Z = np.abs(mu_x_given_Z)\n",
    "samples_raw = finite_GP_DRT.generate_tmg(F, g, M, mu_r, initial_x_given_Z, cov=True, L=10000)"
   ]
  },
  {
   "cell_type": "code",
   "execution_count": 92,
   "metadata": {},
   "outputs": [],
   "source": [
    "# postprocessing\n",
    "samples = samples_raw[:,1000:] # remove burn in\n",
    "samples_gamma = samples[1:,:] # slice out only samples of gamma\n",
    "samples_Z_re_im = A@samples # samples of Z_re_im"
   ]
  },
  {
   "cell_type": "markdown",
   "metadata": {},
   "source": [
    "### 2.8)  Plot of the constrained DRT"
   ]
  },
  {
   "cell_type": "markdown",
   "metadata": {},
   "source": [
    "### Figure 8(c)"
   ]
  },
  {
   "cell_type": "code",
   "execution_count": 93,
   "metadata": {
    "scrolled": true
   },
   "outputs": [
    {
     "data": {
      "image/png": "[encoded data removed]",
      "text/plain": [
       "<Figure size 432x288 with 1 Axes>"
      ]
     },
     "metadata": {
      "needs_background": "light"
     },
     "output_type": "display_data"
    }
   ],
   "source": [
    "gamma_avg = np.average(samples_gamma,axis=1)\n",
    "gamma_std = np.std(samples_gamma,axis=1)\n",
    "gamma_median = np.nanmedian(samples_gamma,axis=1)\n",
    "gamma_percentile_0dot1 = np.percentile(samples_gamma, 1, axis=1)\n",
    "gamma_percentile_0dot5 = np.percentile(samples_gamma, 50, axis=1)\n",
    "gamma_percentile_0dot9 = np.percentile(samples_gamma, 99, axis=1)\n",
    "\n",
    "# plot the DRT and its confidence region\n",
    "plt.semilogx(tau_vec, gamma_median, linewidth=2, color='black', label='fGP-DRT')\n",
    "plt.fill_between(tau_vec, gamma_percentile_0dot1, gamma_percentile_0dot9, \n",
    "                 color='0.25', alpha=0.25)\n",
    "plt.semilogx(tau_vec, gamma_fct, '--', linewidth=2, color='blue', label='exact')\n",
    "\n",
    "plt.rc('text', usetex=True)\n",
    "plt.rc('font', family='serif', size=15)\n",
    "plt.rc('xtick', labelsize=15)\n",
    "plt.rc('ytick', labelsize=15)\n",
    "plt.axis([1E-4, 1E4, 0 ,32])\n",
    "plt.legend(frameon=False, fontsize = 15)\n",
    "plt.xlabel(r'$\\tau/{\\rm s}$', fontsize = 20)\n",
    "plt.ylabel(r'$\\gamma/\\Omega$', fontsize = 20)\n",
    "fig.set_size_inches(6.472, 4)\n",
    "plt.show()"
   ]
  },
  {
   "cell_type": "markdown",
   "metadata": {},
   "source": [
    "### 2.9)  Plot of the constrained impedance"
   ]
  },
  {
   "cell_type": "code",
   "execution_count": 94,
   "metadata": {},
   "outputs": [],
   "source": [
    "Z_re_im_avg = np.average(samples_Z_re_im,axis=1)\n",
    "Z_re_im_std = np.std(samples_Z_re_im,axis=1)\n",
    "Z_re_im_median = np.nanmedian(samples_Z_re_im,axis=1)\n",
    "Z_re_im_percentile_0dot1 = np.percentile(samples_Z_re_im, 1, axis=1)\n",
    "Z_re_im_percentile_0dot5 = np.percentile(samples_Z_re_im, 50, axis=1)\n",
    "Z_re_im_percentile_0dot9 = np.percentile(samples_Z_re_im, 99, axis=1)\n",
    "\n",
    "Z_re_median = Z_re_im_median[:N_freqs]\n",
    "Z_im_median = Z_re_im_median[N_freqs:]\n",
    "\n",
    "Z_re_percentile_0dot1 = Z_re_im_percentile_0dot1[:N_freqs]\n",
    "Z_re_percentile_0dot9 = Z_re_im_percentile_0dot9[:N_freqs]\n",
    "Z_im_percentile_0dot1 = Z_re_im_percentile_0dot1[N_freqs:]\n",
    "Z_im_percentile_0dot9 = Z_re_im_percentile_0dot9[N_freqs:]"
   ]
  },
  {
   "cell_type": "markdown",
   "metadata": {},
   "source": [
    "###  Comparison of the impedance from the constrained fGP-DRT against the exact one\n",
    "\n",
    "### Figure 8 (e)"
   ]
  },
  {
   "cell_type": "code",
   "execution_count": 95,
   "metadata": {},
   "outputs": [
    {
     "data": {
      "image/png": "[encoded data removed]",
      "text/plain": [
       "<Figure size 465.984x288 with 2 Axes>"
      ]
     },
     "metadata": {
      "needs_background": "light"
     },
     "output_type": "display_data"
    }
   ],
   "source": [
    "fig, (ax1, ax2) = plt.subplots(2, sharex=True)\n",
    "\n",
    "ax1.semilogx(freq_vec, Z_exp.real, 'o', markersize=7, color='red', label='exp')\n",
    "ax1.semilogx(freq_vec, Z_re_median, linewidth=2, color='black', label='fGP-DRT')\n",
    "ax1.fill_between(freq_vec, Z_re_percentile_0dot1, Z_re_percentile_0dot9, \n",
    "                 color='0.25', alpha=0.25)\n",
    "ax1.semilogx(freq_vec, Z_exact.real, '--', linewidth=2, color='blue', label='exact')\n",
    "ax1.set_ylabel(r'$Z_{\\rm re}/\\Omega$', fontsize = 20)\n",
    "ax1.axis([1E-4, 1E4, 5, 120])\n",
    "ax1.legend(frameon=False, fontsize = 15)\n",
    "ax1.set_yticks(np.arange(0, 130, step=40)) \n",
    "\n",
    "ax2.semilogx(freq_vec, -Z_exp.imag, 'o', markersize=7, color='red', label='exp')\n",
    "ax2.semilogx(freq_vec, -Z_im_median, linewidth=2, color='black', label='fGP-DRT')\n",
    "ax2.fill_between(freq_vec, -Z_im_percentile_0dot1, -Z_im_percentile_0dot9, \n",
    "                 color='0.25', alpha=0.25)\n",
    "ax2.semilogx(freq_vec, -Z_exact.imag, '--', linewidth=2, color='blue', label='exact')\n",
    "ax2.set_ylabel(r'$-Z_{\\rm im}/\\Omega$', fontsize = 20)\n",
    "ax2.axis([1E-4, 1E4, -2, 22])\n",
    "\n",
    "\n",
    "plt.rc('text', usetex=True)\n",
    "plt.rc('font', family='serif', size=15)\n",
    "plt.rc('xtick', labelsize=15)\n",
    "plt.rc('ytick', labelsize=15)\n",
    "plt.xlabel(r'$f/{\\rm Hz}$', fontsize = 20)\n",
    "fig.set_size_inches(6.472, 4)\n",
    "\n",
    "fig.align_ylabels()\n",
    "#\n",
    "plt.show()"
   ]
  }
 ],
 "metadata": {
  "kernelspec": {
   "display_name": "Python 3",
   "language": "python",
   "name": "python3"
  },
  "language_info": {
   "codemirror_mode": {
    "name": "ipython",
    "version": 3
   },
   "file_extension": ".py",
   "mimetype": "text/x-python",
   "name": "python",
   "nbconvert_exporter": "python",
   "pygments_lexer": "ipython3",
   "version": "3.8.8"
  },
  "nteract": {
   "version": "0.28.0"
  }
 },
 "nbformat": 4,
 "nbformat_minor": 2
}
